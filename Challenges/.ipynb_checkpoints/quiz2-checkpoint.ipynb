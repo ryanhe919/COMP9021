{
 "cells": [
  {
   "cell_type": "code",
   "execution_count": 1,
   "metadata": {},
   "outputs": [],
   "source": [
    "import sys\n",
    "from math import gcd"
   ]
  },
  {
   "cell_type": "code",
   "execution_count": 2,
   "metadata": {},
   "outputs": [
    {
     "name": "stdout",
     "output_type": "stream",
     "text": [
      "Enter two strictly positive integers: 23 11\n"
     ]
    }
   ],
   "source": [
    "try:\n",
    "    numerator, denominator = input('Enter two strictly positive integers: ').split()\n",
    "except ValueError:\n",
    "    print('Incorrect input, giving up.')\n",
    "    sys.exit()\n",
    "try:\n",
    "    numerator, denominator = int(numerator), int(denominator)\n",
    "    if numerator <= 0 or denominator <= 0:\n",
    "        raise ValueError\n",
    "except ValueError:\n",
    "    print('Incorrect input, giving up.')\n",
    "    sys.exit()"
   ]
  },
  {
   "cell_type": "code",
   "execution_count": 3,
   "metadata": {},
   "outputs": [],
   "source": [
    "has_finite_expansion = False\n",
    "integral_part = 0\n",
    "sigma = ''\n",
    "tau = ''"
   ]
  },
  {
   "cell_type": "code",
   "execution_count": null,
   "metadata": {},
   "outputs": [],
   "source": []
  },
  {
   "cell_type": "code",
   "execution_count": 4,
   "metadata": {},
   "outputs": [
    {
     "name": "stdout",
     "output_type": "stream",
     "text": [
      "\n",
      "23 / 11 has no finite expansion\n",
      "23 / 11 = 0\n"
     ]
    }
   ],
   "source": [
    "if has_finite_expansion:\n",
    "    print(f'\\n{numerator} / {denominator} has a finite expansion')\n",
    "else:\n",
    "    print(f'\\n{numerator} / {denominator} has no finite expansion')\n",
    "if not tau:\n",
    "    if not sigma:\n",
    "        print(f'{numerator} / {denominator} = {integral_part}')\n",
    "    else:\n",
    "        print(f'{numerator} / {denominator} = {integral_part}.{sigma}')\n",
    "else:\n",
    "    print(f'{numerator} / {denominator} = {integral_part}.{sigma}({tau})*')\n"
   ]
  },
  {
   "cell_type": "code",
   "execution_count": null,
   "metadata": {},
   "outputs": [],
   "source": []
  }
 ],
 "metadata": {
  "kernelspec": {
   "display_name": "Python 3",
   "language": "python",
   "name": "python3"
  },
  "language_info": {
   "codemirror_mode": {
    "name": "ipython",
    "version": 3
   },
   "file_extension": ".py",
   "mimetype": "text/x-python",
   "name": "python",
   "nbconvert_exporter": "python",
   "pygments_lexer": "ipython3",
   "version": "3.6.4"
  }
 },
 "nbformat": 4,
 "nbformat_minor": 2
}
