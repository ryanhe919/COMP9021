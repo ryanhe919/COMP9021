{
 "cells": [
  {
   "cell_type": "code",
   "execution_count": 1,
   "metadata": {},
   "outputs": [],
   "source": [
    "import sys\n",
    "from math import factorial"
   ]
  },
  {
   "cell_type": "code",
   "execution_count": 2,
   "metadata": {},
   "outputs": [
    {
     "name": "stdout",
     "output_type": "stream",
     "text": [
      "Input a nonnegative integer: 1000\n"
     ]
    }
   ],
   "source": [
    "Number_N = input('Input a nonnegative integer: ')\n",
    "try:\n",
    "    Number_N = int(Number_N)\n",
    "    if Number_N < 0:\n",
    "        raise ValueError\n",
    "except ValueError:\n",
    "    print('Incorrect input, giving up.')\n",
    "    sys.exit()\n",
    "\n",
    "factorial_of_N = factorial(Number_N)"
   ]
  },
  {
   "cell_type": "code",
   "execution_count": 3,
   "metadata": {},
   "outputs": [
    {
     "name": "stdout",
     "output_type": "stream",
     "text": [
      "Computing the number of trailing 0s in 1000! by dividing by 10 for long enough: 249\n"
     ]
    }
   ],
   "source": [
    "N_1 = factorial_of_N\n",
    "x = 0\n",
    "while N_1 % 10 == 0:\n",
    "    x += 1\n",
    "    N_1 //= 10\n",
    "\n",
    "print(f'Computing the number of trailing 0s in {Number_N}! by dividing by 10 for long enough: {x}')\n"
   ]
  },
  {
   "cell_type": "code",
   "execution_count": 4,
   "metadata": {},
   "outputs": [
    {
     "name": "stdout",
     "output_type": "stream",
     "text": [
      "Computing the number of trailing 0s in 1000! by converting it into a string: 249\n"
     ]
    }
   ],
   "source": [
    "N_2 = factorial_of_N\n",
    "y = 0\n",
    "N_2 = str(N_2)\n",
    "for i in N_2[len(N_2)-1:0:-1]:\n",
    "    if i == '0':\n",
    "        y += 1\n",
    "    else:\n",
    "        break\n",
    "print(f'Computing the number of trailing 0s in {Number_N}! by converting it into a string: {y}')\n"
   ]
  },
  {
   "cell_type": "code",
   "execution_count": 16,
   "metadata": {},
   "outputs": [
    {
     "name": "stdout",
     "output_type": "stream",
     "text": [
      "Computing the number of trailing 0s in 1000! the smart way: 249\n"
     ]
    }
   ],
   "source": [
    "N_3 = Number_N\n",
    "b = 1\n",
    "p = 0\n",
    "while 5 ** b <= N_3:   \n",
    "    b += 1\n",
    "z = [0] * (b-1)\n",
    "for j in range(1, N_3 + 1):\n",
    "    for l in range(1,b):\n",
    "        if j % (5 ** l) == 0:\n",
    "            z[l-1] += 1\n",
    "for i in range(0,b-1):\n",
    "    p += z[i]\n",
    "print(f'Computing the number of trailing 0s in {Number_N}! the smart way: {p}')\n"
   ]
  },
  {
   "cell_type": "code",
   "execution_count": null,
   "metadata": {},
   "outputs": [],
   "source": []
  },
  {
   "cell_type": "code",
   "execution_count": null,
   "metadata": {},
   "outputs": [],
   "source": []
  }
 ],
 "metadata": {
  "kernelspec": {
   "display_name": "Python 3",
   "language": "python",
   "name": "python3"
  },
  "language_info": {
   "codemirror_mode": {
    "name": "ipython",
    "version": 3
   },
   "file_extension": ".py",
   "mimetype": "text/x-python",
   "name": "python",
   "nbconvert_exporter": "python",
   "pygments_lexer": "ipython3",
   "version": "3.6.4"
  }
 },
 "nbformat": 4,
 "nbformat_minor": 2
}
